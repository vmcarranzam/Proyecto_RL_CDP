{
  "nbformat": 4,
  "nbformat_minor": 0,
  "metadata": {
    "colab": {
      "provenance": [],
      "authorship_tag": "ABX9TyNhwvdRR9gaVwiN3bWKDyAb",
      "include_colab_link": true
    },
    "kernelspec": {
      "name": "python3",
      "display_name": "Python 3"
    },
    "language_info": {
      "name": "python"
    }
  },
  "cells": [
    {
      "cell_type": "markdown",
      "metadata": {
        "id": "view-in-github",
        "colab_type": "text"
      },
      "source": [
        "<a href=\"https://colab.research.google.com/github/vmcarranzam/Proyecto_RL_CDP/blob/main/Regresi%C3%B3n_Lineal.ipynb\" target=\"_parent\"><img src=\"https://colab.research.google.com/assets/colab-badge.svg\" alt=\"Open In Colab\"/></a>"
      ]
    },
    {
      "cell_type": "markdown",
      "source": [
        "#Proyecto Regresión Lineal con Python"
      ],
      "metadata": {
        "id": "coouCzYI6hyw"
      }
    },
    {
      "cell_type": "markdown",
      "source": [
        "##Importación de librerías"
      ],
      "metadata": {
        "id": "Sby-d8wF6xHo"
      }
    },
    {
      "cell_type": "code",
      "source": [
        "import numpy as np\n",
        "import pandas as pd\n",
        "from matplotlib import pyplot as plt\n",
        "from matplotlib import colormaps as cm\n",
        "import seaborn as sns\n",
        "from sklearn.linear_model import LinearRegression as Lin_reg\n",
        "from google.colab import drive\n",
        "drive.mount('/content/drive')"
      ],
      "metadata": {
        "colab": {
          "base_uri": "https://localhost:8080/"
        },
        "id": "NrAN-2gq6wo_",
        "outputId": "5cd27c0e-3e2b-4431-b443-1953ceeb53bd"
      },
      "execution_count": 4,
      "outputs": [
        {
          "output_type": "stream",
          "name": "stdout",
          "text": [
            "Mounted at /content/drive\n"
          ]
        }
      ]
    },
    {
      "cell_type": "markdown",
      "source": [
        "##Carga de datos"
      ],
      "metadata": {
        "id": "7xJByYYK7nlS"
      }
    },
    {
      "cell_type": "code",
      "source": [
        "data=np.load(\"/content/drive/MyDrive/Colab Notebooks/Proyecto Ciencia de Datos/proyecto_training_data.npy\")\n",
        "df=pd.DataFrame(data, columns=[\"SalePrice\",\"OverallQual\",\"FirstFlrSF\", \"TotRmsAbvGrd\",\"YearBuilt\",\"LotFrontage\"])\n",
        "df"
      ],
      "metadata": {
        "colab": {
          "base_uri": "https://localhost:8080/",
          "height": 424
        },
        "id": "oA366dGo7jcN",
        "outputId": "d3dc3d14-0c1c-45d0-d078-a11aa41fedd5"
      },
      "execution_count": 5,
      "outputs": [
        {
          "output_type": "execute_result",
          "data": {
            "text/plain": [
              "      SalePrice  OverallQual  FirstFlrSF  TotRmsAbvGrd  YearBuilt  LotFrontage\n",
              "0      208500.0          7.0       856.0           8.0     2003.0         65.0\n",
              "1      181500.0          6.0      1262.0           6.0     1976.0         80.0\n",
              "2      223500.0          7.0       920.0           6.0     2001.0         68.0\n",
              "3      140000.0          7.0       961.0           7.0     1915.0         60.0\n",
              "4      250000.0          8.0      1145.0           9.0     2000.0         84.0\n",
              "...         ...          ...         ...           ...        ...          ...\n",
              "1455   175000.0          6.0       953.0           7.0     1999.0         62.0\n",
              "1456   210000.0          6.0      2073.0           7.0     1978.0         85.0\n",
              "1457   266500.0          7.0      1188.0           9.0     1941.0         66.0\n",
              "1458   142125.0          5.0      1078.0           5.0     1950.0         68.0\n",
              "1459   147500.0          5.0      1256.0           6.0     1965.0         75.0\n",
              "\n",
              "[1460 rows x 6 columns]"
            ],
            "text/html": [
              "\n",
              "  <div id=\"df-860fbd83-27a2-4c04-a85e-6d6560850d20\">\n",
              "    <div class=\"colab-df-container\">\n",
              "      <div>\n",
              "<style scoped>\n",
              "    .dataframe tbody tr th:only-of-type {\n",
              "        vertical-align: middle;\n",
              "    }\n",
              "\n",
              "    .dataframe tbody tr th {\n",
              "        vertical-align: top;\n",
              "    }\n",
              "\n",
              "    .dataframe thead th {\n",
              "        text-align: right;\n",
              "    }\n",
              "</style>\n",
              "<table border=\"1\" class=\"dataframe\">\n",
              "  <thead>\n",
              "    <tr style=\"text-align: right;\">\n",
              "      <th></th>\n",
              "      <th>SalePrice</th>\n",
              "      <th>OverallQual</th>\n",
              "      <th>FirstFlrSF</th>\n",
              "      <th>TotRmsAbvGrd</th>\n",
              "      <th>YearBuilt</th>\n",
              "      <th>LotFrontage</th>\n",
              "    </tr>\n",
              "  </thead>\n",
              "  <tbody>\n",
              "    <tr>\n",
              "      <th>0</th>\n",
              "      <td>208500.0</td>\n",
              "      <td>7.0</td>\n",
              "      <td>856.0</td>\n",
              "      <td>8.0</td>\n",
              "      <td>2003.0</td>\n",
              "      <td>65.0</td>\n",
              "    </tr>\n",
              "    <tr>\n",
              "      <th>1</th>\n",
              "      <td>181500.0</td>\n",
              "      <td>6.0</td>\n",
              "      <td>1262.0</td>\n",
              "      <td>6.0</td>\n",
              "      <td>1976.0</td>\n",
              "      <td>80.0</td>\n",
              "    </tr>\n",
              "    <tr>\n",
              "      <th>2</th>\n",
              "      <td>223500.0</td>\n",
              "      <td>7.0</td>\n",
              "      <td>920.0</td>\n",
              "      <td>6.0</td>\n",
              "      <td>2001.0</td>\n",
              "      <td>68.0</td>\n",
              "    </tr>\n",
              "    <tr>\n",
              "      <th>3</th>\n",
              "      <td>140000.0</td>\n",
              "      <td>7.0</td>\n",
              "      <td>961.0</td>\n",
              "      <td>7.0</td>\n",
              "      <td>1915.0</td>\n",
              "      <td>60.0</td>\n",
              "    </tr>\n",
              "    <tr>\n",
              "      <th>4</th>\n",
              "      <td>250000.0</td>\n",
              "      <td>8.0</td>\n",
              "      <td>1145.0</td>\n",
              "      <td>9.0</td>\n",
              "      <td>2000.0</td>\n",
              "      <td>84.0</td>\n",
              "    </tr>\n",
              "    <tr>\n",
              "      <th>...</th>\n",
              "      <td>...</td>\n",
              "      <td>...</td>\n",
              "      <td>...</td>\n",
              "      <td>...</td>\n",
              "      <td>...</td>\n",
              "      <td>...</td>\n",
              "    </tr>\n",
              "    <tr>\n",
              "      <th>1455</th>\n",
              "      <td>175000.0</td>\n",
              "      <td>6.0</td>\n",
              "      <td>953.0</td>\n",
              "      <td>7.0</td>\n",
              "      <td>1999.0</td>\n",
              "      <td>62.0</td>\n",
              "    </tr>\n",
              "    <tr>\n",
              "      <th>1456</th>\n",
              "      <td>210000.0</td>\n",
              "      <td>6.0</td>\n",
              "      <td>2073.0</td>\n",
              "      <td>7.0</td>\n",
              "      <td>1978.0</td>\n",
              "      <td>85.0</td>\n",
              "    </tr>\n",
              "    <tr>\n",
              "      <th>1457</th>\n",
              "      <td>266500.0</td>\n",
              "      <td>7.0</td>\n",
              "      <td>1188.0</td>\n",
              "      <td>9.0</td>\n",
              "      <td>1941.0</td>\n",
              "      <td>66.0</td>\n",
              "    </tr>\n",
              "    <tr>\n",
              "      <th>1458</th>\n",
              "      <td>142125.0</td>\n",
              "      <td>5.0</td>\n",
              "      <td>1078.0</td>\n",
              "      <td>5.0</td>\n",
              "      <td>1950.0</td>\n",
              "      <td>68.0</td>\n",
              "    </tr>\n",
              "    <tr>\n",
              "      <th>1459</th>\n",
              "      <td>147500.0</td>\n",
              "      <td>5.0</td>\n",
              "      <td>1256.0</td>\n",
              "      <td>6.0</td>\n",
              "      <td>1965.0</td>\n",
              "      <td>75.0</td>\n",
              "    </tr>\n",
              "  </tbody>\n",
              "</table>\n",
              "<p>1460 rows × 6 columns</p>\n",
              "</div>\n",
              "      <button class=\"colab-df-convert\" onclick=\"convertToInteractive('df-860fbd83-27a2-4c04-a85e-6d6560850d20')\"\n",
              "              title=\"Convert this dataframe to an interactive table.\"\n",
              "              style=\"display:none;\">\n",
              "        \n",
              "  <svg xmlns=\"http://www.w3.org/2000/svg\" height=\"24px\"viewBox=\"0 0 24 24\"\n",
              "       width=\"24px\">\n",
              "    <path d=\"M0 0h24v24H0V0z\" fill=\"none\"/>\n",
              "    <path d=\"M18.56 5.44l.94 2.06.94-2.06 2.06-.94-2.06-.94-.94-2.06-.94 2.06-2.06.94zm-11 1L8.5 8.5l.94-2.06 2.06-.94-2.06-.94L8.5 2.5l-.94 2.06-2.06.94zm10 10l.94 2.06.94-2.06 2.06-.94-2.06-.94-.94-2.06-.94 2.06-2.06.94z\"/><path d=\"M17.41 7.96l-1.37-1.37c-.4-.4-.92-.59-1.43-.59-.52 0-1.04.2-1.43.59L10.3 9.45l-7.72 7.72c-.78.78-.78 2.05 0 2.83L4 21.41c.39.39.9.59 1.41.59.51 0 1.02-.2 1.41-.59l7.78-7.78 2.81-2.81c.8-.78.8-2.07 0-2.86zM5.41 20L4 18.59l7.72-7.72 1.47 1.35L5.41 20z\"/>\n",
              "  </svg>\n",
              "      </button>\n",
              "      \n",
              "  <style>\n",
              "    .colab-df-container {\n",
              "      display:flex;\n",
              "      flex-wrap:wrap;\n",
              "      gap: 12px;\n",
              "    }\n",
              "\n",
              "    .colab-df-convert {\n",
              "      background-color: #E8F0FE;\n",
              "      border: none;\n",
              "      border-radius: 50%;\n",
              "      cursor: pointer;\n",
              "      display: none;\n",
              "      fill: #1967D2;\n",
              "      height: 32px;\n",
              "      padding: 0 0 0 0;\n",
              "      width: 32px;\n",
              "    }\n",
              "\n",
              "    .colab-df-convert:hover {\n",
              "      background-color: #E2EBFA;\n",
              "      box-shadow: 0px 1px 2px rgba(60, 64, 67, 0.3), 0px 1px 3px 1px rgba(60, 64, 67, 0.15);\n",
              "      fill: #174EA6;\n",
              "    }\n",
              "\n",
              "    [theme=dark] .colab-df-convert {\n",
              "      background-color: #3B4455;\n",
              "      fill: #D2E3FC;\n",
              "    }\n",
              "\n",
              "    [theme=dark] .colab-df-convert:hover {\n",
              "      background-color: #434B5C;\n",
              "      box-shadow: 0px 1px 3px 1px rgba(0, 0, 0, 0.15);\n",
              "      filter: drop-shadow(0px 1px 2px rgba(0, 0, 0, 0.3));\n",
              "      fill: #FFFFFF;\n",
              "    }\n",
              "  </style>\n",
              "\n",
              "      <script>\n",
              "        const buttonEl =\n",
              "          document.querySelector('#df-860fbd83-27a2-4c04-a85e-6d6560850d20 button.colab-df-convert');\n",
              "        buttonEl.style.display =\n",
              "          google.colab.kernel.accessAllowed ? 'block' : 'none';\n",
              "\n",
              "        async function convertToInteractive(key) {\n",
              "          const element = document.querySelector('#df-860fbd83-27a2-4c04-a85e-6d6560850d20');\n",
              "          const dataTable =\n",
              "            await google.colab.kernel.invokeFunction('convertToInteractive',\n",
              "                                                     [key], {});\n",
              "          if (!dataTable) return;\n",
              "\n",
              "          const docLinkHtml = 'Like what you see? Visit the ' +\n",
              "            '<a target=\"_blank\" href=https://colab.research.google.com/notebooks/data_table.ipynb>data table notebook</a>'\n",
              "            + ' to learn more about interactive tables.';\n",
              "          element.innerHTML = '';\n",
              "          dataTable['output_type'] = 'display_data';\n",
              "          await google.colab.output.renderOutput(dataTable, element);\n",
              "          const docLink = document.createElement('div');\n",
              "          docLink.innerHTML = docLinkHtml;\n",
              "          element.appendChild(docLink);\n",
              "        }\n",
              "      </script>\n",
              "    </div>\n",
              "  </div>\n",
              "  "
            ]
          },
          "metadata": {},
          "execution_count": 5
        }
      ]
    },
    {
      "cell_type": "markdown",
      "source": [
        "##Exploración de datos"
      ],
      "metadata": {
        "id": "UG1uIjYtVP6L"
      }
    },
    {
      "cell_type": "markdown",
      "source": [
        "###Calculando la media de cada variable"
      ],
      "metadata": {
        "id": "u0bICZI0VrxQ"
      }
    },
    {
      "cell_type": "code",
      "source": [
        "df.mean()"
      ],
      "metadata": {
        "colab": {
          "base_uri": "https://localhost:8080/"
        },
        "id": "vhSxLx7rVmIT",
        "outputId": "0b26a32d-bd4c-46ca-d1c4-3ed3779c26f7"
      },
      "execution_count": 6,
      "outputs": [
        {
          "output_type": "execute_result",
          "data": {
            "text/plain": [
              "SalePrice       180921.195890\n",
              "OverallQual          6.099315\n",
              "FirstFlrSF        1162.626712\n",
              "TotRmsAbvGrd         6.517808\n",
              "YearBuilt         1971.267808\n",
              "LotFrontage         70.049958\n",
              "dtype: float64"
            ]
          },
          "metadata": {},
          "execution_count": 6
        }
      ]
    },
    {
      "cell_type": "markdown",
      "source": [
        "###Calculando valores mínimos, máximos y rango de cada variable"
      ],
      "metadata": {
        "id": "QK1P7ImaV8Ux"
      }
    },
    {
      "cell_type": "code",
      "source": [
        "df.min()"
      ],
      "metadata": {
        "colab": {
          "base_uri": "https://localhost:8080/"
        },
        "id": "2V96MnOVV9PX",
        "outputId": "400bf138-3106-4997-b95c-43fb536d9d96"
      },
      "execution_count": 7,
      "outputs": [
        {
          "output_type": "execute_result",
          "data": {
            "text/plain": [
              "SalePrice       34900.0\n",
              "OverallQual         1.0\n",
              "FirstFlrSF        334.0\n",
              "TotRmsAbvGrd        2.0\n",
              "YearBuilt        1872.0\n",
              "LotFrontage        21.0\n",
              "dtype: float64"
            ]
          },
          "metadata": {},
          "execution_count": 7
        }
      ]
    },
    {
      "cell_type": "code",
      "source": [
        "df.max()"
      ],
      "metadata": {
        "colab": {
          "base_uri": "https://localhost:8080/"
        },
        "id": "svToCqATWFxd",
        "outputId": "7445edf3-1e8d-4bfe-b9a2-7837f2a27195"
      },
      "execution_count": 8,
      "outputs": [
        {
          "output_type": "execute_result",
          "data": {
            "text/plain": [
              "SalePrice       755000.0\n",
              "OverallQual         10.0\n",
              "FirstFlrSF        4692.0\n",
              "TotRmsAbvGrd        14.0\n",
              "YearBuilt         2010.0\n",
              "LotFrontage        313.0\n",
              "dtype: float64"
            ]
          },
          "metadata": {},
          "execution_count": 8
        }
      ]
    },
    {
      "cell_type": "code",
      "source": [
        "rango=(df.max())-df.min()\n",
        "rango"
      ],
      "metadata": {
        "colab": {
          "base_uri": "https://localhost:8080/"
        },
        "id": "bmZT63V0WIzS",
        "outputId": "4ddce9b0-bf49-4645-e50b-34576e9ce837"
      },
      "execution_count": 9,
      "outputs": [
        {
          "output_type": "execute_result",
          "data": {
            "text/plain": [
              "SalePrice       720100.0\n",
              "OverallQual          9.0\n",
              "FirstFlrSF        4358.0\n",
              "TotRmsAbvGrd        12.0\n",
              "YearBuilt          138.0\n",
              "LotFrontage        292.0\n",
              "dtype: float64"
            ]
          },
          "metadata": {},
          "execution_count": 9
        }
      ]
    },
    {
      "cell_type": "markdown",
      "source": [
        "###Calculando la desviación estándar de cada variable"
      ],
      "metadata": {
        "id": "-PvFK0ruWQGA"
      }
    },
    {
      "cell_type": "code",
      "source": [
        "df.std()"
      ],
      "metadata": {
        "colab": {
          "base_uri": "https://localhost:8080/"
        },
        "id": "b34NQxydWQ0e",
        "outputId": "365eb152-49a9-474c-c5c8-d51069674c85"
      },
      "execution_count": 10,
      "outputs": [
        {
          "output_type": "execute_result",
          "data": {
            "text/plain": [
              "SalePrice       79442.502883\n",
              "OverallQual         1.382997\n",
              "FirstFlrSF        386.587738\n",
              "TotRmsAbvGrd        1.625393\n",
              "YearBuilt          30.202904\n",
              "LotFrontage        24.284752\n",
              "dtype: float64"
            ]
          },
          "metadata": {},
          "execution_count": 10
        }
      ]
    },
    {
      "cell_type": "markdown",
      "source": [
        "##Definición de la clase"
      ],
      "metadata": {
        "id": "zTpUlRSz78l1"
      }
    },
    {
      "cell_type": "code",
      "execution_count": 11,
      "metadata": {
        "id": "VmMltCTx6cbH"
      },
      "outputs": [],
      "source": [
        "class RegresionLineal:\n",
        "    \n",
        "    def __init__(self, x_col, y_col, epochs, learning_rate, print_every,  df):\n",
        "        self.x_col = x_col\n",
        "        self.y_col = y_col\n",
        "        self.x = np.array(df[x_col])\n",
        "        self.y = np.array(df[y_col])\n",
        "        self.epochs = epochs\n",
        "        self.lr = learning_rate\n",
        "        self.print_every = print_every\n",
        "        self.df = df\n",
        "        self.train_x, self.test_x, self.train_y, self.test_y = self.split_data()\n",
        "        self.mse = {}\n",
        "\n",
        " #Método para dividir el dataset   \n",
        "    def split_data(self):\n",
        "        idx = int(len(self.x) * 0.8)\n",
        "        train_x = self.x[:idx]\n",
        "        test_x = self.x[idx:]\n",
        "        train_y = self.y[:idx]\n",
        "        test_y = self.y[idx:]\n",
        "        return train_x, test_x, train_y, test_y\n",
        "\n",
        "#Método para graficar histogramas de las variables independientes\n",
        "    def plot_histograms(self):\n",
        "        sns.set_style(\"darkgrid\")\n",
        "        for column in df:\n",
        "          plt.clf()\n",
        "          col = (np.random.random(), np.random.random(), np.random.random())\n",
        "          plt.figure()\n",
        "          sns.histplot(df[column], kde = True, color = col, linewidth = 1, edgecolor =\"0\")\n",
        "          plt.show()\n",
        "\n",
        "#Método para realizar regresión lineal y gradiente descendiente    \n",
        "    def perform_vectorized_linear_regression(self):\n",
        "        b0, b1 = 0, 0\n",
        "        n = len(self.train_x)\n",
        "        for i in range(self.epochs):\n",
        "            y_pred = b0 + b1 * self.train_x\n",
        "            error = y_pred - self.train_y\n",
        "            b0 -= self.lr * (1/n) * error.sum()\n",
        "            b1 -= self.lr * (1/n) * np.dot(error, self.train_x)\n",
        "            if (i+1) % self.print_every == 0:\n",
        "                self.mse[i+1] = {'b0': b0, 'b1': b1, 'y_pred': y_pred, 'mse': np.mean(error**2)}\n",
        "                print(\"Epoch: {}, MSE: {}\".format(i+1, self.mse[i+1][\"mse\"]))\n",
        "                \n",
        "\n",
        "#Método para graficar MSE vs Epoch\n",
        "    def plot_mse(self):\n",
        "        plt.clf()\n",
        "        epochs = list(self.mse.keys())\n",
        "        mse = [self.mse[i]['mse'] for i in epochs]\n",
        "        plt.plot(epochs, mse)\n",
        "        plt.xlabel('Epochs')\n",
        "        plt.ylabel('Mean Squared Error')\n",
        "        plt.title('MSE vs Epoch')\n",
        "        plt.show()\n",
        "\n",
        "#Método para graficar la línea producida por el modelo con menor error    \n",
        "    def plot_best_fit_line(self):\n",
        "        plt.clf()\n",
        "        best_epoch = min(self.mse, key=lambda x: self.mse[x]['mse'])\n",
        "        b0 = self.mse[best_epoch]['b0']\n",
        "        b1 = self.mse[best_epoch]['b1']\n",
        "        y_pred = b0 + b1 * self.x\n",
        "        plt.scatter(self.x, self.y)\n",
        "        plt.plot(self.x, y_pred, color='red')\n",
        "        plt.xlabel(self.x_col)\n",
        "        plt.ylabel(self.y_col)\n",
        "        plt.title('Línea del mejor modelo')\n",
        "        plt.show()\n",
        "\n",
        "#Método para graficar la evolución del modelo mientras se entrena\n",
        "    def plot_evolution(self, n):\n",
        "        plt.clf()\n",
        "        plt.scatter(self.x, self.y)\n",
        "        for i in range(1, self.epochs+1, n):\n",
        "            if i in self.mse:\n",
        "                b0 = self.mse[i]['b0']\n",
        "                b1 = self.mse[i]['b1']\n",
        "                y_pred = b0 + b1 * self.x\n",
        "                plt.plot(self.x, y_pred, label=f'Epoch {i}')\n",
        "        plt.xlabel(self.x_col)\n",
        "        plt.ylabel(self.y_col)\n",
        "        plt.title('Linear Regression')\n",
        "        plt.legend()\n",
        "        plt.show()\n",
        "\n",
        "#Método para comparar realizando un modelo con Scikit-Learn\n",
        "    def compare_with_sklearn(self):\n",
        "        l_r = Lin_reg()\n",
        "        l_r.fit(self.train_x.reshape(-1, 1), self.train_y)\n",
        "        y_pred = l_r.predict(self.x.reshape(-1, 1))\n",
        "        plt.scatter(self.x, self.y)\n",
        "        plt.plot(self.x, y_pred, color='red')\n",
        "        plt.xlabel(self.x_col)\n",
        "        plt.ylabel(self.y_col)\n",
        "        plt.title('Comparison with scikit-learn')\n",
        "        plt.show()\n",
        "\n",
        "#Método para graficar scatterplots de cada variable independiente junto a su coeficiente de correlación con la dependiente\n",
        "    def plot_scatters(self):\n",
        "        dataframe = self.df\n",
        "        cols = list(dataframe.columns)\n",
        "        cols.remove(self.y_col)\n",
        "        for col in cols:\n",
        "            plt.scatter(self.df[col], self.y)\n",
        "            corr = np.corrcoef(self.df[col], self.y)[0][1]\n",
        "            plt.title(f\"{col} vs {self.y_col} (Correlation: {corr:.2f})\")\n",
        "            plt.xlabel(col)\n",
        "            plt.ylabel(self.y_col)\n",
        "            plt.show()\n",
        "\n",
        "#Método para graficar la comparación de modelos y obtener los parámetros del modelo manual y del generado por Scikit-Learn\n",
        "    def mean_model(self):\n",
        "        best_epoch_vectorized = min(self.mse, key=lambda x: self.mse[x]['mse'])\n",
        "        b0_vectorized = self.mse[best_epoch_vectorized]['b0']\n",
        "        b1_vectorized = self.mse[best_epoch_vectorized]['b1']\n",
        "        mse_vectorized = self.mse[best_epoch_vectorized]['mse']\n",
        "    \n",
        "        l_r = Lin_reg()\n",
        "        l_r.fit(self.train_x.reshape(-1, 1), self.train_y)\n",
        "        y_pred_sklearn = l_r.predict(self.x.reshape(-1, 1))\n",
        "        b1_sklearn, b0_sklearn = l_r.coef_[0], l_r.intercept_\n",
        "\n",
        "        b0_mean = (b0_vectorized + b0_sklearn) / 2\n",
        "        b1_mean = (b1_vectorized + b1_sklearn) / 2\n",
        "\n",
        "        plt.scatter(self.x, self.y)\n",
        "        plt.plot(self.x, b0_vectorized + b1_vectorized*self.x, color='red', label='Modelo manual')\n",
        "        plt.plot(self.x, y_pred_sklearn, color='green', label='Modelo scikit-learn')\n",
        "        plt.plot(self.x, b0_mean + b1_mean*self.x, color='blue', label='Modelo Promedio')\n",
        "        plt.xlabel(self.x_col)\n",
        "        plt.ylabel(self.y_col)\n",
        "        plt.title('Comparación de modelos')\n",
        "        plt.legend()\n",
        "        plt.show()\n",
        "\n",
        "        return {'Modelo manual': {'b0': b0_vectorized, 'b1': b1_vectorized, 'mse': mse_vectorized},\n",
        "            'Modelo scikit-learn': {'b0': b0_sklearn, 'b1': b1_sklearn},\n",
        "            'Modelo promedio': {'b0': b0_mean, 'b1': b1_mean}}"
      ]
    },
    {
      "cell_type": "code",
      "source": [
        "lr_overall = RegresionLineal(x_col=\"OverallQual\", y_col=\"SalePrice\", epochs=1000, learning_rate=0.001, print_every=100, df=df)\n",
        "lr_overall.perform_vectorized_linear_regression()"
      ],
      "metadata": {
        "colab": {
          "base_uri": "https://localhost:8080/"
        },
        "id": "XZjnsQKsCr1u",
        "outputId": "b445c52e-d418-4e40-e8a6-832be359fb21"
      },
      "execution_count": 12,
      "outputs": [
        {
          "output_type": "stream",
          "name": "stdout",
          "text": [
            "Epoch: 100, MSE: 2795872109.636188\n",
            "Epoch: 200, MSE: 2780285231.2075825\n",
            "Epoch: 300, MSE: 2775697370.8696895\n",
            "Epoch: 400, MSE: 2771155793.3945804\n",
            "Epoch: 500, MSE: 2766657021.1366405\n",
            "Epoch: 600, MSE: 2762200649.804095\n",
            "Epoch: 700, MSE: 2757786279.768013\n",
            "Epoch: 800, MSE: 2753413515.166207\n",
            "Epoch: 900, MSE: 2749081963.8674917\n",
            "Epoch: 1000, MSE: 2744791237.436517\n"
          ]
        }
      ]
    },
    {
      "cell_type": "code",
      "source": [
        "train_x, test_x, train_y, test_y = lr_overall.split_data()"
      ],
      "metadata": {
        "id": "DkBMzaslh1uJ"
      },
      "execution_count": 14,
      "outputs": []
    },
    {
      "cell_type": "code",
      "source": [
        "test_data = {'xcol': test_x,\n",
        "        'ycol': test_y}\n",
        "test_df =pd.DataFrame(test_data)"
      ],
      "metadata": {
        "id": "-EB8qJ_Hh9NC"
      },
      "execution_count": 17,
      "outputs": []
    },
    {
      "cell_type": "code",
      "source": [
        "lr_overall_test = RegresionLineal(x_col=\"xcol\", y_col=\"ycol\", epochs=1000, learning_rate=0.001, print_every=100, df=test_df)\n"
      ],
      "metadata": {
        "id": "zlrL_PSwiGQm"
      },
      "execution_count": 18,
      "outputs": []
    },
    {
      "cell_type": "code",
      "source": [],
      "metadata": {
        "id": "46XcP_4Ajg-F"
      },
      "execution_count": null,
      "outputs": []
    }
  ]
}