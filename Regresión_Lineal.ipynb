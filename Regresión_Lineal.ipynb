{
  "nbformat": 4,
  "nbformat_minor": 0,
  "metadata": {
    "colab": {
      "provenance": [],
      "authorship_tag": "ABX9TyPbYmhouGwcUzicpziNyEBt",
      "include_colab_link": true
    },
    "kernelspec": {
      "name": "python3",
      "display_name": "Python 3"
    },
    "language_info": {
      "name": "python"
    }
  },
  "cells": [
    {
      "cell_type": "markdown",
      "metadata": {
        "id": "view-in-github",
        "colab_type": "text"
      },
      "source": [
        "<a href=\"https://colab.research.google.com/github/vmcarranzam/Proyecto_RL_CDP/blob/main/Regresi%C3%B3n_Lineal.ipynb\" target=\"_parent\"><img src=\"https://colab.research.google.com/assets/colab-badge.svg\" alt=\"Open In Colab\"/></a>"
      ]
    },
    {
      "cell_type": "markdown",
      "source": [
        "#Proyecto Regresión Lineal con Python"
      ],
      "metadata": {
        "id": "coouCzYI6hyw"
      }
    },
    {
      "cell_type": "markdown",
      "source": [
        "##Importación de librerías"
      ],
      "metadata": {
        "id": "Sby-d8wF6xHo"
      }
    },
    {
      "cell_type": "code",
      "source": [
        "import numpy as np\n",
        "import pandas as pd\n",
        "from matplotlib import pyplot as plt\n",
        "from matplotlib import colormaps as cm\n",
        "import seaborn as sns\n",
        "from sklearn.linear_model import LinearRegression\n",
        "from google.colab import drive\n",
        "drive.mount('/content/drive')"
      ],
      "metadata": {
        "id": "NrAN-2gq6wo_"
      },
      "execution_count": null,
      "outputs": []
    },
    {
      "cell_type": "markdown",
      "source": [
        "##Carga de datos"
      ],
      "metadata": {
        "id": "7xJByYYK7nlS"
      }
    },
    {
      "cell_type": "code",
      "source": [
        "data=np.load(\"/content/drive/MyDrive/Colab Notebooks/Proyecto Ciencia de Datos/proyecto_training_data.npy\")\n",
        "df=pd.DataFrame(data, columns=[\"SalePrice\",\"OverallQual\",\"FirstFlrSF\", \"TotRmsAbvGrd\",\"YearBuilt\",\"LotFrontage\"])\n",
        "df"
      ],
      "metadata": {
        "id": "oA366dGo7jcN"
      },
      "execution_count": null,
      "outputs": []
    },
    {
      "cell_type": "markdown",
      "source": [
        "##Definición de la clase"
      ],
      "metadata": {
        "id": "zTpUlRSz78l1"
      }
    },
    {
      "cell_type": "code",
      "execution_count": null,
      "metadata": {
        "id": "VmMltCTx6cbH"
      },
      "outputs": [],
      "source": [
        "class RegresionLineal:\n",
        "    \n",
        "    def __init__(self, x_col, y_col, epochs, learning_rate, imprimir_cada, df):\n",
        "        self.x_col = x_col\n",
        "        self.y_col = y_col\n",
        "        self.x = np.array(df[x_col])\n",
        "        self.y = np.array(df[y_col])\n",
        "        self.epochs = epochs\n",
        "        self.lr = learning_rate\n",
        "        self.imprimir_cada = imprimir_cada\n",
        "        self.train_x, self.test_x, self.train_y, self.test_y = self.split_data()\n",
        "        self.mse = {}\n",
        "\n",
        " #Método para dividir el dataset   \n",
        "    def split_data(self):\n",
        "        idx = int(len(self.x) * 0.8)\n",
        "        train_x = self.x[:idx]\n",
        "        test_x = self.x[idx:]\n",
        "        train_y = self.y[:idx]\n",
        "        test_y = self.y[idx:]\n",
        "        return train_x, test_x, train_y, test_y"
      ]
    }
  ]
}